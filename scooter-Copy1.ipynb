{
 "cells": [
  {
   "cell_type": "markdown",
   "metadata": {},
   "source": [
    "# Scooters Charging Time Analysis\n",
    "\n",
    "**Assumptions**\n",
    "- The mega charging bus can only charge a certain number of scooters, N, at a time. In my analysis, I set N=400.\n",
    "- The distance of 0.5 unit on the plane is equivalent to 1 mile in real life.\n"
   ]
  },
  {
   "cell_type": "markdown",
   "metadata": {},
   "source": [
    "**Read data**"
   ]
  },
  {
   "cell_type": "code",
   "execution_count": 5,
   "metadata": {
    "scrolled": true
   },
   "outputs": [
    {
     "data": {
      "text/html": [
       "<div>\n",
       "<style scoped>\n",
       "    .dataframe tbody tr th:only-of-type {\n",
       "        vertical-align: middle;\n",
       "    }\n",
       "\n",
       "    .dataframe tbody tr th {\n",
       "        vertical-align: top;\n",
       "    }\n",
       "\n",
       "    .dataframe thead th {\n",
       "        text-align: right;\n",
       "    }\n",
       "</style>\n",
       "<table border=\"1\" class=\"dataframe\">\n",
       "  <thead>\n",
       "    <tr style=\"text-align: right;\">\n",
       "      <th></th>\n",
       "      <th>scooter_id</th>\n",
       "      <th>xcoordinate</th>\n",
       "      <th>ycoordinate</th>\n",
       "      <th>power_level</th>\n",
       "    </tr>\n",
       "  </thead>\n",
       "  <tbody>\n",
       "    <tr>\n",
       "      <th>0</th>\n",
       "      <td>0</td>\n",
       "      <td>0.906835</td>\n",
       "      <td>0.776484</td>\n",
       "      <td>0</td>\n",
       "    </tr>\n",
       "    <tr>\n",
       "      <th>1</th>\n",
       "      <td>1</td>\n",
       "      <td>0.928587</td>\n",
       "      <td>0.804964</td>\n",
       "      <td>2</td>\n",
       "    </tr>\n",
       "    <tr>\n",
       "      <th>2</th>\n",
       "      <td>2</td>\n",
       "      <td>0.904091</td>\n",
       "      <td>0.784043</td>\n",
       "      <td>1</td>\n",
       "    </tr>\n",
       "    <tr>\n",
       "      <th>3</th>\n",
       "      <td>3</td>\n",
       "      <td>0.906752</td>\n",
       "      <td>0.804461</td>\n",
       "      <td>0</td>\n",
       "    </tr>\n",
       "    <tr>\n",
       "      <th>4</th>\n",
       "      <td>4</td>\n",
       "      <td>0.900641</td>\n",
       "      <td>0.781683</td>\n",
       "      <td>4</td>\n",
       "    </tr>\n",
       "    <tr>\n",
       "      <th>5</th>\n",
       "      <td>5</td>\n",
       "      <td>0.899680</td>\n",
       "      <td>0.790893</td>\n",
       "      <td>2</td>\n",
       "    </tr>\n",
       "    <tr>\n",
       "      <th>6</th>\n",
       "      <td>6</td>\n",
       "      <td>0.873765</td>\n",
       "      <td>0.808707</td>\n",
       "      <td>4</td>\n",
       "    </tr>\n",
       "    <tr>\n",
       "      <th>7</th>\n",
       "      <td>7</td>\n",
       "      <td>0.913476</td>\n",
       "      <td>0.789742</td>\n",
       "      <td>5</td>\n",
       "    </tr>\n",
       "    <tr>\n",
       "      <th>8</th>\n",
       "      <td>8</td>\n",
       "      <td>0.915256</td>\n",
       "      <td>0.790685</td>\n",
       "      <td>4</td>\n",
       "    </tr>\n",
       "    <tr>\n",
       "      <th>9</th>\n",
       "      <td>9</td>\n",
       "      <td>0.916273</td>\n",
       "      <td>0.785860</td>\n",
       "      <td>5</td>\n",
       "    </tr>\n",
       "    <tr>\n",
       "      <th>10</th>\n",
       "      <td>10</td>\n",
       "      <td>0.906847</td>\n",
       "      <td>0.805807</td>\n",
       "      <td>0</td>\n",
       "    </tr>\n",
       "    <tr>\n",
       "      <th>11</th>\n",
       "      <td>11</td>\n",
       "      <td>0.905919</td>\n",
       "      <td>0.811344</td>\n",
       "      <td>3</td>\n",
       "    </tr>\n",
       "    <tr>\n",
       "      <th>12</th>\n",
       "      <td>12</td>\n",
       "      <td>0.901493</td>\n",
       "      <td>0.791249</td>\n",
       "      <td>1</td>\n",
       "    </tr>\n",
       "    <tr>\n",
       "      <th>13</th>\n",
       "      <td>13</td>\n",
       "      <td>0.904264</td>\n",
       "      <td>0.797024</td>\n",
       "      <td>1</td>\n",
       "    </tr>\n",
       "    <tr>\n",
       "      <th>14</th>\n",
       "      <td>14</td>\n",
       "      <td>0.898657</td>\n",
       "      <td>0.799972</td>\n",
       "      <td>2</td>\n",
       "    </tr>\n",
       "    <tr>\n",
       "      <th>15</th>\n",
       "      <td>15</td>\n",
       "      <td>0.885372</td>\n",
       "      <td>0.780831</td>\n",
       "      <td>1</td>\n",
       "    </tr>\n",
       "    <tr>\n",
       "      <th>16</th>\n",
       "      <td>16</td>\n",
       "      <td>0.884462</td>\n",
       "      <td>0.799252</td>\n",
       "      <td>2</td>\n",
       "    </tr>\n",
       "    <tr>\n",
       "      <th>17</th>\n",
       "      <td>17</td>\n",
       "      <td>0.926481</td>\n",
       "      <td>0.802019</td>\n",
       "      <td>4</td>\n",
       "    </tr>\n",
       "    <tr>\n",
       "      <th>18</th>\n",
       "      <td>18</td>\n",
       "      <td>0.904266</td>\n",
       "      <td>0.803249</td>\n",
       "      <td>2</td>\n",
       "    </tr>\n",
       "    <tr>\n",
       "      <th>19</th>\n",
       "      <td>19</td>\n",
       "      <td>0.904425</td>\n",
       "      <td>0.792057</td>\n",
       "      <td>0</td>\n",
       "    </tr>\n",
       "  </tbody>\n",
       "</table>\n",
       "</div>"
      ],
      "text/plain": [
       "    scooter_id  xcoordinate  ycoordinate  power_level\n",
       "0            0     0.906835     0.776484            0\n",
       "1            1     0.928587     0.804964            2\n",
       "2            2     0.904091     0.784043            1\n",
       "3            3     0.906752     0.804461            0\n",
       "4            4     0.900641     0.781683            4\n",
       "5            5     0.899680     0.790893            2\n",
       "6            6     0.873765     0.808707            4\n",
       "7            7     0.913476     0.789742            5\n",
       "8            8     0.915256     0.790685            4\n",
       "9            9     0.916273     0.785860            5\n",
       "10          10     0.906847     0.805807            0\n",
       "11          11     0.905919     0.811344            3\n",
       "12          12     0.901493     0.791249            1\n",
       "13          13     0.904264     0.797024            1\n",
       "14          14     0.898657     0.799972            2\n",
       "15          15     0.885372     0.780831            1\n",
       "16          16     0.884462     0.799252            2\n",
       "17          17     0.926481     0.802019            4\n",
       "18          18     0.904266     0.803249            2\n",
       "19          19     0.904425     0.792057            0"
      ]
     },
     "execution_count": 5,
     "metadata": {},
     "output_type": "execute_result"
    }
   ],
   "source": [
    "import pandas as pd\n",
    "df = pd.read_csv('scooter.csv')\n",
    "df.head(20)"
   ]
  },
  {
   "cell_type": "code",
   "execution_count": 2,
   "metadata": {},
   "outputs": [],
   "source": [
    "# import numpy as np\n",
    "# import matplotlib.pyplot as plt\n",
    "\n",
    "# x = df['xcoordinate'].astype('float64')\n",
    "# y = df['ycoordinate'].astype('float64')\n",
    "# plt.figure(figsize=(8, 8), dpi=80)\n",
    "# plt.scatter(x, y, s=0.1)\n",
    "# plt.show()"
   ]
  },
  {
   "cell_type": "markdown",
   "metadata": {},
   "source": [
    "**Plot the data points on the plane**\n",
    "* I was curious to see the distribute of the power levels in each location, so I used different colors for different power levels. It turns out that there is not a location where certain power levels dominate."
   ]
  },
  {
   "cell_type": "code",
   "execution_count": 6,
   "metadata": {},
   "outputs": [
    {
     "data": {
      "image/png": "[encoded data removed]",
      "text/plain": [
       "<Figure size 720x720 with 1 Axes>"
      ]
     },
     "metadata": {
      "needs_background": "light"
     },
     "output_type": "display_data"
    }
   ],
   "source": [
    "import numpy as np\n",
    "import matplotlib.pyplot as plt\n",
    "colors = np.where(df[\"power_level\"]==0,'r','-')\n",
    "colors[df[\"power_level\"]==1] = 'y'\n",
    "colors[df[\"power_level\"]==2] = 'm'\n",
    "colors[df[\"power_level\"]==3] = 'c'\n",
    "colors[df[\"power_level\"]==4] = 'b'\n",
    "colors[df[\"power_level\"]==5] = 'g'\n",
    "df.plot.scatter(x=\"xcoordinate\",y=\"ycoordinate\",c=colors, s=0.5,figsize=(10,10))\n",
    "plt.show()"
   ]
  },
  {
   "cell_type": "markdown",
   "metadata": {},
   "source": [
    "* It is quite obvious that the scooters are separated into 19 locations. Therefore, I used Kmeans clustering to separate the scooters into 19 clusters and add the \"clusters\" column to the dataframe."
   ]
  },
  {
   "cell_type": "code",
   "execution_count": 8,
   "metadata": {},
   "outputs": [
    {
     "data": {
      "text/html": [
       "<div>\n",
       "<style scoped>\n",
       "    .dataframe tbody tr th:only-of-type {\n",
       "        vertical-align: middle;\n",
       "    }\n",
       "\n",
       "    .dataframe tbody tr th {\n",
       "        vertical-align: top;\n",
       "    }\n",
       "\n",
       "    .dataframe thead th {\n",
       "        text-align: right;\n",
       "    }\n",
       "</style>\n",
       "<table border=\"1\" class=\"dataframe\">\n",
       "  <thead>\n",
       "    <tr style=\"text-align: right;\">\n",
       "      <th></th>\n",
       "      <th>scooter_id</th>\n",
       "      <th>xcoordinate</th>\n",
       "      <th>ycoordinate</th>\n",
       "      <th>power_level</th>\n",
       "      <th>clusters</th>\n",
       "    </tr>\n",
       "  </thead>\n",
       "  <tbody>\n",
       "    <tr>\n",
       "      <th>0</th>\n",
       "      <td>0</td>\n",
       "      <td>0.906835</td>\n",
       "      <td>0.776484</td>\n",
       "      <td>0</td>\n",
       "      <td>18</td>\n",
       "    </tr>\n",
       "    <tr>\n",
       "      <th>1</th>\n",
       "      <td>1</td>\n",
       "      <td>0.928587</td>\n",
       "      <td>0.804964</td>\n",
       "      <td>2</td>\n",
       "      <td>18</td>\n",
       "    </tr>\n",
       "    <tr>\n",
       "      <th>2</th>\n",
       "      <td>2</td>\n",
       "      <td>0.904091</td>\n",
       "      <td>0.784043</td>\n",
       "      <td>1</td>\n",
       "      <td>18</td>\n",
       "    </tr>\n",
       "    <tr>\n",
       "      <th>3</th>\n",
       "      <td>3</td>\n",
       "      <td>0.906752</td>\n",
       "      <td>0.804461</td>\n",
       "      <td>0</td>\n",
       "      <td>18</td>\n",
       "    </tr>\n",
       "    <tr>\n",
       "      <th>4</th>\n",
       "      <td>4</td>\n",
       "      <td>0.900641</td>\n",
       "      <td>0.781683</td>\n",
       "      <td>4</td>\n",
       "      <td>18</td>\n",
       "    </tr>\n",
       "    <tr>\n",
       "      <th>5</th>\n",
       "      <td>5</td>\n",
       "      <td>0.899680</td>\n",
       "      <td>0.790893</td>\n",
       "      <td>2</td>\n",
       "      <td>18</td>\n",
       "    </tr>\n",
       "    <tr>\n",
       "      <th>6</th>\n",
       "      <td>6</td>\n",
       "      <td>0.873765</td>\n",
       "      <td>0.808707</td>\n",
       "      <td>4</td>\n",
       "      <td>18</td>\n",
       "    </tr>\n",
       "    <tr>\n",
       "      <th>7</th>\n",
       "      <td>7</td>\n",
       "      <td>0.913476</td>\n",
       "      <td>0.789742</td>\n",
       "      <td>5</td>\n",
       "      <td>18</td>\n",
       "    </tr>\n",
       "    <tr>\n",
       "      <th>8</th>\n",
       "      <td>8</td>\n",
       "      <td>0.915256</td>\n",
       "      <td>0.790685</td>\n",
       "      <td>4</td>\n",
       "      <td>18</td>\n",
       "    </tr>\n",
       "    <tr>\n",
       "      <th>9</th>\n",
       "      <td>9</td>\n",
       "      <td>0.916273</td>\n",
       "      <td>0.785860</td>\n",
       "      <td>5</td>\n",
       "      <td>18</td>\n",
       "    </tr>\n",
       "    <tr>\n",
       "      <th>10</th>\n",
       "      <td>10</td>\n",
       "      <td>0.906847</td>\n",
       "      <td>0.805807</td>\n",
       "      <td>0</td>\n",
       "      <td>18</td>\n",
       "    </tr>\n",
       "    <tr>\n",
       "      <th>11</th>\n",
       "      <td>11</td>\n",
       "      <td>0.905919</td>\n",
       "      <td>0.811344</td>\n",
       "      <td>3</td>\n",
       "      <td>18</td>\n",
       "    </tr>\n",
       "    <tr>\n",
       "      <th>12</th>\n",
       "      <td>12</td>\n",
       "      <td>0.901493</td>\n",
       "      <td>0.791249</td>\n",
       "      <td>1</td>\n",
       "      <td>18</td>\n",
       "    </tr>\n",
       "    <tr>\n",
       "      <th>13</th>\n",
       "      <td>13</td>\n",
       "      <td>0.904264</td>\n",
       "      <td>0.797024</td>\n",
       "      <td>1</td>\n",
       "      <td>18</td>\n",
       "    </tr>\n",
       "    <tr>\n",
       "      <th>14</th>\n",
       "      <td>14</td>\n",
       "      <td>0.898657</td>\n",
       "      <td>0.799972</td>\n",
       "      <td>2</td>\n",
       "      <td>18</td>\n",
       "    </tr>\n",
       "    <tr>\n",
       "      <th>15</th>\n",
       "      <td>15</td>\n",
       "      <td>0.885372</td>\n",
       "      <td>0.780831</td>\n",
       "      <td>1</td>\n",
       "      <td>18</td>\n",
       "    </tr>\n",
       "    <tr>\n",
       "      <th>16</th>\n",
       "      <td>16</td>\n",
       "      <td>0.884462</td>\n",
       "      <td>0.799252</td>\n",
       "      <td>2</td>\n",
       "      <td>18</td>\n",
       "    </tr>\n",
       "    <tr>\n",
       "      <th>17</th>\n",
       "      <td>17</td>\n",
       "      <td>0.926481</td>\n",
       "      <td>0.802019</td>\n",
       "      <td>4</td>\n",
       "      <td>18</td>\n",
       "    </tr>\n",
       "    <tr>\n",
       "      <th>18</th>\n",
       "      <td>18</td>\n",
       "      <td>0.904266</td>\n",
       "      <td>0.803249</td>\n",
       "      <td>2</td>\n",
       "      <td>18</td>\n",
       "    </tr>\n",
       "    <tr>\n",
       "      <th>19</th>\n",
       "      <td>19</td>\n",
       "      <td>0.904425</td>\n",
       "      <td>0.792057</td>\n",
       "      <td>0</td>\n",
       "      <td>18</td>\n",
       "    </tr>\n",
       "    <tr>\n",
       "      <th>20</th>\n",
       "      <td>20</td>\n",
       "      <td>0.875620</td>\n",
       "      <td>0.801346</td>\n",
       "      <td>0</td>\n",
       "      <td>18</td>\n",
       "    </tr>\n",
       "    <tr>\n",
       "      <th>21</th>\n",
       "      <td>21</td>\n",
       "      <td>0.900621</td>\n",
       "      <td>0.810840</td>\n",
       "      <td>3</td>\n",
       "      <td>18</td>\n",
       "    </tr>\n",
       "    <tr>\n",
       "      <th>22</th>\n",
       "      <td>22</td>\n",
       "      <td>0.894725</td>\n",
       "      <td>0.806605</td>\n",
       "      <td>4</td>\n",
       "      <td>18</td>\n",
       "    </tr>\n",
       "    <tr>\n",
       "      <th>23</th>\n",
       "      <td>23</td>\n",
       "      <td>0.911556</td>\n",
       "      <td>0.784681</td>\n",
       "      <td>5</td>\n",
       "      <td>18</td>\n",
       "    </tr>\n",
       "    <tr>\n",
       "      <th>24</th>\n",
       "      <td>24</td>\n",
       "      <td>0.896705</td>\n",
       "      <td>0.801677</td>\n",
       "      <td>4</td>\n",
       "      <td>18</td>\n",
       "    </tr>\n",
       "    <tr>\n",
       "      <th>25</th>\n",
       "      <td>25</td>\n",
       "      <td>0.895725</td>\n",
       "      <td>0.790989</td>\n",
       "      <td>2</td>\n",
       "      <td>18</td>\n",
       "    </tr>\n",
       "    <tr>\n",
       "      <th>26</th>\n",
       "      <td>26</td>\n",
       "      <td>0.894769</td>\n",
       "      <td>0.783909</td>\n",
       "      <td>2</td>\n",
       "      <td>18</td>\n",
       "    </tr>\n",
       "    <tr>\n",
       "      <th>27</th>\n",
       "      <td>27</td>\n",
       "      <td>0.885053</td>\n",
       "      <td>0.794401</td>\n",
       "      <td>2</td>\n",
       "      <td>18</td>\n",
       "    </tr>\n",
       "    <tr>\n",
       "      <th>28</th>\n",
       "      <td>28</td>\n",
       "      <td>0.912030</td>\n",
       "      <td>0.794157</td>\n",
       "      <td>0</td>\n",
       "      <td>18</td>\n",
       "    </tr>\n",
       "    <tr>\n",
       "      <th>29</th>\n",
       "      <td>29</td>\n",
       "      <td>0.905292</td>\n",
       "      <td>0.797360</td>\n",
       "      <td>1</td>\n",
       "      <td>18</td>\n",
       "    </tr>\n",
       "    <tr>\n",
       "      <th>...</th>\n",
       "      <td>...</td>\n",
       "      <td>...</td>\n",
       "      <td>...</td>\n",
       "      <td>...</td>\n",
       "      <td>...</td>\n",
       "    </tr>\n",
       "    <tr>\n",
       "      <th>25638</th>\n",
       "      <td>25638</td>\n",
       "      <td>0.944468</td>\n",
       "      <td>1.297093</td>\n",
       "      <td>0</td>\n",
       "      <td>13</td>\n",
       "    </tr>\n",
       "    <tr>\n",
       "      <th>25639</th>\n",
       "      <td>25639</td>\n",
       "      <td>0.970065</td>\n",
       "      <td>1.288834</td>\n",
       "      <td>4</td>\n",
       "      <td>13</td>\n",
       "    </tr>\n",
       "    <tr>\n",
       "      <th>25640</th>\n",
       "      <td>25640</td>\n",
       "      <td>0.966601</td>\n",
       "      <td>1.286650</td>\n",
       "      <td>2</td>\n",
       "      <td>13</td>\n",
       "    </tr>\n",
       "    <tr>\n",
       "      <th>25641</th>\n",
       "      <td>25641</td>\n",
       "      <td>0.978843</td>\n",
       "      <td>1.301902</td>\n",
       "      <td>5</td>\n",
       "      <td>13</td>\n",
       "    </tr>\n",
       "    <tr>\n",
       "      <th>25642</th>\n",
       "      <td>25642</td>\n",
       "      <td>0.956143</td>\n",
       "      <td>1.287155</td>\n",
       "      <td>0</td>\n",
       "      <td>13</td>\n",
       "    </tr>\n",
       "    <tr>\n",
       "      <th>25643</th>\n",
       "      <td>25643</td>\n",
       "      <td>0.950733</td>\n",
       "      <td>1.302323</td>\n",
       "      <td>0</td>\n",
       "      <td>13</td>\n",
       "    </tr>\n",
       "    <tr>\n",
       "      <th>25644</th>\n",
       "      <td>25644</td>\n",
       "      <td>0.959514</td>\n",
       "      <td>1.303935</td>\n",
       "      <td>4</td>\n",
       "      <td>13</td>\n",
       "    </tr>\n",
       "    <tr>\n",
       "      <th>25645</th>\n",
       "      <td>25645</td>\n",
       "      <td>0.970499</td>\n",
       "      <td>1.307217</td>\n",
       "      <td>5</td>\n",
       "      <td>13</td>\n",
       "    </tr>\n",
       "    <tr>\n",
       "      <th>25646</th>\n",
       "      <td>25646</td>\n",
       "      <td>0.943649</td>\n",
       "      <td>1.313249</td>\n",
       "      <td>3</td>\n",
       "      <td>13</td>\n",
       "    </tr>\n",
       "    <tr>\n",
       "      <th>25647</th>\n",
       "      <td>25647</td>\n",
       "      <td>0.957838</td>\n",
       "      <td>1.276586</td>\n",
       "      <td>2</td>\n",
       "      <td>13</td>\n",
       "    </tr>\n",
       "    <tr>\n",
       "      <th>25648</th>\n",
       "      <td>25648</td>\n",
       "      <td>0.959622</td>\n",
       "      <td>1.296374</td>\n",
       "      <td>3</td>\n",
       "      <td>13</td>\n",
       "    </tr>\n",
       "    <tr>\n",
       "      <th>25649</th>\n",
       "      <td>25649</td>\n",
       "      <td>0.979135</td>\n",
       "      <td>1.299700</td>\n",
       "      <td>4</td>\n",
       "      <td>13</td>\n",
       "    </tr>\n",
       "    <tr>\n",
       "      <th>25650</th>\n",
       "      <td>25650</td>\n",
       "      <td>0.978101</td>\n",
       "      <td>1.279493</td>\n",
       "      <td>0</td>\n",
       "      <td>13</td>\n",
       "    </tr>\n",
       "    <tr>\n",
       "      <th>25651</th>\n",
       "      <td>25651</td>\n",
       "      <td>0.952058</td>\n",
       "      <td>1.290147</td>\n",
       "      <td>0</td>\n",
       "      <td>13</td>\n",
       "    </tr>\n",
       "    <tr>\n",
       "      <th>25652</th>\n",
       "      <td>25652</td>\n",
       "      <td>0.946096</td>\n",
       "      <td>1.303115</td>\n",
       "      <td>3</td>\n",
       "      <td>13</td>\n",
       "    </tr>\n",
       "    <tr>\n",
       "      <th>25653</th>\n",
       "      <td>25653</td>\n",
       "      <td>0.950750</td>\n",
       "      <td>1.295193</td>\n",
       "      <td>1</td>\n",
       "      <td>13</td>\n",
       "    </tr>\n",
       "    <tr>\n",
       "      <th>25654</th>\n",
       "      <td>25654</td>\n",
       "      <td>0.963100</td>\n",
       "      <td>1.302630</td>\n",
       "      <td>3</td>\n",
       "      <td>13</td>\n",
       "    </tr>\n",
       "    <tr>\n",
       "      <th>25655</th>\n",
       "      <td>25655</td>\n",
       "      <td>0.961126</td>\n",
       "      <td>1.298540</td>\n",
       "      <td>2</td>\n",
       "      <td>13</td>\n",
       "    </tr>\n",
       "    <tr>\n",
       "      <th>25656</th>\n",
       "      <td>25656</td>\n",
       "      <td>0.963377</td>\n",
       "      <td>1.309476</td>\n",
       "      <td>4</td>\n",
       "      <td>13</td>\n",
       "    </tr>\n",
       "    <tr>\n",
       "      <th>25657</th>\n",
       "      <td>25657</td>\n",
       "      <td>0.947093</td>\n",
       "      <td>1.298891</td>\n",
       "      <td>3</td>\n",
       "      <td>13</td>\n",
       "    </tr>\n",
       "    <tr>\n",
       "      <th>25658</th>\n",
       "      <td>25658</td>\n",
       "      <td>0.971392</td>\n",
       "      <td>1.291350</td>\n",
       "      <td>3</td>\n",
       "      <td>13</td>\n",
       "    </tr>\n",
       "    <tr>\n",
       "      <th>25659</th>\n",
       "      <td>25659</td>\n",
       "      <td>0.961979</td>\n",
       "      <td>1.284334</td>\n",
       "      <td>5</td>\n",
       "      <td>13</td>\n",
       "    </tr>\n",
       "    <tr>\n",
       "      <th>25660</th>\n",
       "      <td>25660</td>\n",
       "      <td>0.972953</td>\n",
       "      <td>1.297746</td>\n",
       "      <td>5</td>\n",
       "      <td>13</td>\n",
       "    </tr>\n",
       "    <tr>\n",
       "      <th>25661</th>\n",
       "      <td>25661</td>\n",
       "      <td>0.945709</td>\n",
       "      <td>1.266022</td>\n",
       "      <td>1</td>\n",
       "      <td>13</td>\n",
       "    </tr>\n",
       "    <tr>\n",
       "      <th>25662</th>\n",
       "      <td>25662</td>\n",
       "      <td>0.969872</td>\n",
       "      <td>1.291282</td>\n",
       "      <td>0</td>\n",
       "      <td>13</td>\n",
       "    </tr>\n",
       "    <tr>\n",
       "      <th>25663</th>\n",
       "      <td>25663</td>\n",
       "      <td>0.943601</td>\n",
       "      <td>1.292008</td>\n",
       "      <td>0</td>\n",
       "      <td>13</td>\n",
       "    </tr>\n",
       "    <tr>\n",
       "      <th>25664</th>\n",
       "      <td>25664</td>\n",
       "      <td>0.971847</td>\n",
       "      <td>1.282083</td>\n",
       "      <td>0</td>\n",
       "      <td>13</td>\n",
       "    </tr>\n",
       "    <tr>\n",
       "      <th>25665</th>\n",
       "      <td>25665</td>\n",
       "      <td>0.956886</td>\n",
       "      <td>1.286652</td>\n",
       "      <td>4</td>\n",
       "      <td>13</td>\n",
       "    </tr>\n",
       "    <tr>\n",
       "      <th>25666</th>\n",
       "      <td>25666</td>\n",
       "      <td>0.959825</td>\n",
       "      <td>1.297630</td>\n",
       "      <td>1</td>\n",
       "      <td>13</td>\n",
       "    </tr>\n",
       "    <tr>\n",
       "      <th>25667</th>\n",
       "      <td>25667</td>\n",
       "      <td>0.963641</td>\n",
       "      <td>1.300093</td>\n",
       "      <td>4</td>\n",
       "      <td>13</td>\n",
       "    </tr>\n",
       "  </tbody>\n",
       "</table>\n",
       "<p>25668 rows × 5 columns</p>\n",
       "</div>"
      ],
      "text/plain": [
       "       scooter_id  xcoordinate  ycoordinate  power_level  clusters\n",
       "0               0     0.906835     0.776484            0        18\n",
       "1               1     0.928587     0.804964            2        18\n",
       "2               2     0.904091     0.784043            1        18\n",
       "3               3     0.906752     0.804461            0        18\n",
       "4               4     0.900641     0.781683            4        18\n",
       "5               5     0.899680     0.790893            2        18\n",
       "6               6     0.873765     0.808707            4        18\n",
       "7               7     0.913476     0.789742            5        18\n",
       "8               8     0.915256     0.790685            4        18\n",
       "9               9     0.916273     0.785860            5        18\n",
       "10             10     0.906847     0.805807            0        18\n",
       "11             11     0.905919     0.811344            3        18\n",
       "12             12     0.901493     0.791249            1        18\n",
       "13             13     0.904264     0.797024            1        18\n",
       "14             14     0.898657     0.799972            2        18\n",
       "15             15     0.885372     0.780831            1        18\n",
       "16             16     0.884462     0.799252            2        18\n",
       "17             17     0.926481     0.802019            4        18\n",
       "18             18     0.904266     0.803249            2        18\n",
       "19             19     0.904425     0.792057            0        18\n",
       "20             20     0.875620     0.801346            0        18\n",
       "21             21     0.900621     0.810840            3        18\n",
       "22             22     0.894725     0.806605            4        18\n",
       "23             23     0.911556     0.784681            5        18\n",
       "24             24     0.896705     0.801677            4        18\n",
       "25             25     0.895725     0.790989            2        18\n",
       "26             26     0.894769     0.783909            2        18\n",
       "27             27     0.885053     0.794401            2        18\n",
       "28             28     0.912030     0.794157            0        18\n",
       "29             29     0.905292     0.797360            1        18\n",
       "...           ...          ...          ...          ...       ...\n",
       "25638       25638     0.944468     1.297093            0        13\n",
       "25639       25639     0.970065     1.288834            4        13\n",
       "25640       25640     0.966601     1.286650            2        13\n",
       "25641       25641     0.978843     1.301902            5        13\n",
       "25642       25642     0.956143     1.287155            0        13\n",
       "25643       25643     0.950733     1.302323            0        13\n",
       "25644       25644     0.959514     1.303935            4        13\n",
       "25645       25645     0.970499     1.307217            5        13\n",
       "25646       25646     0.943649     1.313249            3        13\n",
       "25647       25647     0.957838     1.276586            2        13\n",
       "25648       25648     0.959622     1.296374            3        13\n",
       "25649       25649     0.979135     1.299700            4        13\n",
       "25650       25650     0.978101     1.279493            0        13\n",
       "25651       25651     0.952058     1.290147            0        13\n",
       "25652       25652     0.946096     1.303115            3        13\n",
       "25653       25653     0.950750     1.295193            1        13\n",
       "25654       25654     0.963100     1.302630            3        13\n",
       "25655       25655     0.961126     1.298540            2        13\n",
       "25656       25656     0.963377     1.309476            4        13\n",
       "25657       25657     0.947093     1.298891            3        13\n",
       "25658       25658     0.971392     1.291350            3        13\n",
       "25659       25659     0.961979     1.284334            5        13\n",
       "25660       25660     0.972953     1.297746            5        13\n",
       "25661       25661     0.945709     1.266022            1        13\n",
       "25662       25662     0.969872     1.291282            0        13\n",
       "25663       25663     0.943601     1.292008            0        13\n",
       "25664       25664     0.971847     1.282083            0        13\n",
       "25665       25665     0.956886     1.286652            4        13\n",
       "25666       25666     0.959825     1.297630            1        13\n",
       "25667       25667     0.963641     1.300093            4        13\n",
       "\n",
       "[25668 rows x 5 columns]"
      ]
     },
     "execution_count": 8,
     "metadata": {},
     "output_type": "execute_result"
    }
   ],
   "source": [
    "from sklearn.cluster import KMeans\n",
    "kmeans = KMeans(n_clusters=19).fit(df[[\"xcoordinate\",\"ycoordinate\"]])\n",
    "labels = kmeans.labels_\n",
    "df['clusters'] = labels\n",
    "\n",
    "#Add the column into our list\n",
    "columns = [\"scooter_id\",\"xcoordinate\",\"ycoordinate\",\"power_level\"]\n",
    "columns.extend(['clusters'])\n",
    "df"
   ]
  },
  {
   "cell_type": "markdown",
   "metadata": {},
   "source": [
    "**Calculate charging time**\n",
    "* At first, I was trying to come up with a function that can calculate the exact charging time for each location. This turned out to be more complicated than I expected since we cannot charge all of the scooters at once, and the time for each scooter varies depending on the power level.\n",
    "* I decided to calculate the average number of hours it takes to charge a scooter in that location, then multiply by (total scooters in location / N =400). This will not give us the exact number, but I think the error will not be too big, since the distribution of the power levels in each location is quite close to uniform (See graphs below)."
   ]
  },
  {
   "cell_type": "code",
   "execution_count": 9,
   "metadata": {},
   "outputs": [
    {
     "name": "stdout",
     "output_type": "stream",
     "text": [
      "   power_level  counts\n",
      "2            0     190\n",
      "4            1     188\n",
      "1            2     205\n",
      "3            3     189\n",
      "0            4     206\n",
      "5            5     176\n",
      "   power_level  counts\n",
      "2            0     264\n",
      "5            1     242\n",
      "3            2     253\n",
      "4            3     242\n",
      "0            4     270\n",
      "1            5     269\n",
      "   power_level  counts\n",
      "4            0     260\n",
      "0            1     275\n",
      "2            2     273\n",
      "1            3     273\n",
      "3            4     266\n",
      "5            5     256\n",
      "   power_level  counts\n",
      "2            0     256\n",
      "0            1     264\n",
      "4            2     241\n",
      "3            3     247\n",
      "1            4     258\n",
      "5            5     225\n",
      "   power_level  counts\n",
      "2            0     161\n",
      "5            1     132\n",
      "0            2     174\n",
      "4            3     137\n",
      "1            4     166\n",
      "3            5     144\n",
      "   power_level  counts\n",
      "0            0     282\n",
      "5            1     232\n",
      "4            2     234\n",
      "2            3     250\n",
      "3            4     241\n",
      "1            5     278\n",
      "   power_level  counts\n",
      "0            0     275\n",
      "1            1     255\n",
      "5            2     222\n",
      "3            3     234\n",
      "4            4     231\n",
      "2            5     244\n",
      "   power_level  counts\n",
      "2            0     188\n",
      "1            1     198\n",
      "5            2     169\n",
      "4            3     170\n",
      "3            4     170\n",
      "0            5     220\n",
      "   power_level  counts\n",
      "1            0     166\n",
      "2            1     161\n",
      "0            2     192\n",
      "5            3     146\n",
      "4            4     146\n",
      "3            5     160\n",
      "   power_level  counts\n",
      "1            0     371\n",
      "2            1     365\n",
      "4            2     364\n",
      "5            3     341\n",
      "3            4     364\n",
      "0            5     400\n",
      "   power_level  counts\n",
      "1            0     244\n",
      "0            1     245\n",
      "2            2     231\n",
      "4            3     215\n",
      "5            4     207\n",
      "3            5     225\n",
      "   power_level  counts\n",
      "5            0     212\n",
      "4            1     219\n",
      "1            2     227\n",
      "2            3     221\n",
      "0            4     236\n",
      "3            5     219\n",
      "   power_level  counts\n",
      "2            0     271\n",
      "3            1     247\n",
      "5            2     245\n",
      "4            3     245\n",
      "1            4     273\n",
      "0            5     277\n",
      "   power_level  counts\n",
      "4            0     214\n",
      "2            1     234\n",
      "3            2     222\n",
      "0            3     248\n",
      "5            4     207\n",
      "1            5     241\n",
      "   power_level  counts\n",
      "4            0     196\n",
      "3            1     202\n",
      "0            2     220\n",
      "5            3     175\n",
      "2            4     213\n",
      "1            5     213\n",
      "   power_level  counts\n",
      "1            0     212\n",
      "5            1     184\n",
      "3            2     203\n",
      "2            3     207\n",
      "0            4     213\n",
      "4            5     200\n",
      "   power_level  counts\n",
      "1            0     173\n",
      "2            1     167\n",
      "5            2     154\n",
      "3            3     163\n",
      "4            4     155\n",
      "0            5     176\n",
      "   power_level  counts\n",
      "5            0     211\n",
      "2            1     226\n",
      "3            2     216\n",
      "1            3     229\n",
      "0            4     239\n",
      "4            5     212\n",
      "   power_level  counts\n",
      "0            0     242\n",
      "3            1     212\n",
      "5            2     200\n",
      "1            3     228\n",
      "2            4     223\n",
      "4            5     208\n"
     ]
    },
    {
     "data": {
      "image/png": "[encoded data removed]",
      "text/plain": [
       "<Figure size 432x288 with 1 Axes>"
      ]
     },
     "metadata": {
      "needs_background": "light"
     },
     "output_type": "display_data"
    },
    {
     "data": {
      "image/png": "[encoded data removed]",
      "text/plain": [
       "<Figure size 432x288 with 1 Axes>"
      ]
     },
     "metadata": {
      "needs_background": "light"
     },
     "output_type": "display_data"
    },
    {
     "data": {
      "image/png": "[encoded data removed]",
      "text/plain": [
       "<Figure size 432x288 with 1 Axes>"
      ]
     },
     "metadata": {
      "needs_background": "light"
     },
     "output_type": "display_data"
    },
    {
     "data": {
      "image/png": "[encoded data removed]",
      "text/plain": [
       "<Figure size 432x288 with 1 Axes>"
      ]
     },
     "metadata": {
      "needs_background": "light"
     },
     "output_type": "display_data"
    },
    {
     "data": {
      "image/png": "[encoded data removed]",
      "text/plain": [
       "<Figure size 432x288 with 1 Axes>"
      ]
     },
     "metadata": {
      "needs_background": "light"
     },
     "output_type": "display_data"
    },
    {
     "data": {
      "image/png": "[encoded data removed]",
      "text/plain": [
       "<Figure size 432x288 with 1 Axes>"
      ]
     },
     "metadata": {
      "needs_background": "light"
     },
     "output_type": "display_data"
    },
    {
     "data": {
      "image/png": "[encoded data removed]",
      "text/plain": [
       "<Figure size 432x288 with 1 Axes>"
      ]
     },
     "metadata": {
      "needs_background": "light"
     },
     "output_type": "display_data"
    },
    {
     "data": {
      "image/png": "[encoded data removed]",
      "text/plain": [
       "<Figure size 432x288 with 1 Axes>"
      ]
     },
     "metadata": {
      "needs_background": "light"
     },
     "output_type": "display_data"
    },
    {
     "data": {
      "image/png": "[encoded data removed]",
      "text/plain": [
       "<Figure size 432x288 with 1 Axes>"
      ]
     },
     "metadata": {
      "needs_background": "light"
     },
     "output_type": "display_data"
    },
    {
     "data": {
      "image/png": "[encoded data removed]",
      "text/plain": [
       "<Figure size 432x288 with 1 Axes>"
      ]
     },
     "metadata": {
      "needs_background": "light"
     },
     "output_type": "display_data"
    },
    {
     "data": {
      "image/png": "[encoded data removed]",
      "text/plain": [
       "<Figure size 432x288 with 1 Axes>"
      ]
     },
     "metadata": {
      "needs_background": "light"
     },
     "output_type": "display_data"
    },
    {
     "data": {
      "image/png": "[encoded data removed]",
      "text/plain": [
       "<Figure size 432x288 with 1 Axes>"
      ]
     },
     "metadata": {
      "needs_background": "light"
     },
     "output_type": "display_data"
    },
    {
     "data": {
      "image/png": "[encoded data removed]",
      "text/plain": [
       "<Figure size 432x288 with 1 Axes>"
      ]
     },
     "metadata": {
      "needs_background": "light"
     },
     "output_type": "display_data"
    },
    {
     "data": {
      "image/png": "[encoded data removed]",
      "text/plain": [
       "<Figure size 432x288 with 1 Axes>"
      ]
     },
     "metadata": {
      "needs_background": "light"
     },
     "output_type": "display_data"
    },
    {
     "data": {
      "image/png": "[encoded data removed]",
      "text/plain": [
       "<Figure size 432x288 with 1 Axes>"
      ]
     },
     "metadata": {
      "needs_background": "light"
     },
     "output_type": "display_data"
    },
    {
     "data": {
      "image/png": "[encoded data removed]",
      "text/plain": [
       "<Figure size 432x288 with 1 Axes>"
      ]
     },
     "metadata": {
      "needs_background": "light"
     },
     "output_type": "display_data"
    },
    {
     "data": {
      "image/png": "[encoded data removed]",
      "text/plain": [
       "<Figure size 432x288 with 1 Axes>"
      ]
     },
     "metadata": {
      "needs_background": "light"
     },
     "output_type": "display_data"
    },
    {
     "data": {
      "image/png": "[encoded data removed]",
      "text/plain": [
       "<Figure size 432x288 with 1 Axes>"
      ]
     },
     "metadata": {
      "needs_background": "light"
     },
     "output_type": "display_data"
    },
    {
     "data": {
      "image/png": "[encoded data removed]",
      "text/plain": [
       "<Figure size 432x288 with 1 Axes>"
      ]
     },
     "metadata": {
      "needs_background": "light"
     },
     "output_type": "display_data"
    }
   ],
   "source": [
    "clusters = []\n",
    "time = []\n",
    "N =400\n",
    "for i in range(19):\n",
    "    cluster = df[df[\"clusters\"]==i][\"power_level\"].value_counts().rename_axis('power_level').reset_index(name='counts')\n",
    "    cluster = cluster.sort_values(by=[\"power_level\"])\n",
    "    cluster.plot.bar('power_level')\n",
    "    print(cluster)\n",
    "\n",
    "    total = cluster[\"counts\"].sum()\n",
    "    cluster[\"hours\"] = 5 - cluster[\"power_level\"]\n",
    "    avg_per_scooter = sum(cluster[\"counts\"]*cluster[\"hours\"])/total\n",
    "    time_at_loc = avg_per_scooter * (total/N)\n",
    "    clusters.append(cluster)\n",
    "    time.append(time_at_loc)\n",
    "\n",
    "    \n",
    "    "
   ]
  },
  {
   "cell_type": "markdown",
   "metadata": {},
   "source": [
    "* The next thing I do is to separate those 19 clusters into 4 areas to find the center of each area, then find the center of these 4 areas.\n",
    "* Since the distances between these clusters are small, I decided to just ignore them when calculating the time.\n",
    "* The final time would be the total of the time to travel from (20.19, 20.19) to the center of the areas and the total of charging time in 19 locations."
   ]
  },
  {
   "cell_type": "code",
   "execution_count": 10,
   "metadata": {},
   "outputs": [],
   "source": [
    "kmeans_area = KMeans(n_clusters=4).fit(df[[\"xcoordinate\",\"ycoordinate\"]])\n",
    "labels = kmeans_area.labels_\n",
    "df['areas'] = labels\n"
   ]
  },
  {
   "cell_type": "code",
   "execution_count": 11,
   "metadata": {},
   "outputs": [
    {
     "data": {
      "image/png": "[encoded data removed]",
      "text/plain": [
       "<Figure size 432x288 with 1 Axes>"
      ]
     },
     "metadata": {
      "needs_background": "light"
     },
     "output_type": "display_data"
    }
   ],
   "source": [
    "colors = np.where(df[\"areas\"]==0,'r','-')\n",
    "colors[df[\"areas\"]==1] = 'y'\n",
    "colors[df[\"areas\"]==2] = 'g'\n",
    "colors[df[\"areas\"]==3] = 'b'\n",
    "df.plot.scatter(x=\"xcoordinate\",y=\"ycoordinate\",c=colors, s=0.1, legend = True)\n",
    "plt.show()"
   ]
  },
  {
   "cell_type": "code",
   "execution_count": 12,
   "metadata": {},
   "outputs": [],
   "source": [
    "areas = list(set(kmeans_area.labels_))\n",
    "area_centers=[]\n",
    "area_centers_x = []\n",
    "area_centers_y = []\n",
    "for a in areas:\n",
    "    clusters_in_area = list(set(df[df[\"areas\"]==a][\"clusters\"]))\n",
    "    cluster_centers= []\n",
    "    sum_x=0\n",
    "    sum_y=0\n",
    "    for c in clusters_in_area:\n",
    "        mean_x = df[df[\"clusters\"]==c][\"xcoordinate\"].mean()\n",
    "        mean_y = df[df[\"clusters\"]==c][\"ycoordinate\"].mean()\n",
    "        sum_x += mean_x\n",
    "        sum_y += mean_y\n",
    "        cluster_centers.append([mean_x,mean_y])\n",
    "    area_size = len(clusters_in_area)\n",
    "    area_centers_x.append(sum_x/area_size)\n",
    "    area_centers_y.append(sum_y/area_size)\n"
   ]
  },
  {
   "cell_type": "code",
   "execution_count": 13,
   "metadata": {},
   "outputs": [
    {
     "data": {
      "text/plain": [
       "[0.5031278092754445, 0.48873469029364214]"
      ]
     },
     "execution_count": 13,
     "metadata": {},
     "output_type": "execute_result"
    }
   ],
   "source": [
    "overall_center = [sum(area_centers_x)/4, sum(area_centers_y)/4]\n",
    "overall_center"
   ]
  },
  {
   "cell_type": "code",
   "execution_count": 14,
   "metadata": {},
   "outputs": [],
   "source": [
    "dist_start_center = ((20.19-overall_center[0])**2 + (20.19-overall_center[1])**2)**(1/2)\n",
    "dist_start_center = dist_start_center/0.5 # distance of 0.5 on the plane is equivalent to 1 mile\n"
   ]
  },
  {
   "cell_type": "code",
   "execution_count": 15,
   "metadata": {},
   "outputs": [
    {
     "data": {
      "text/plain": [
       "161.79"
      ]
     },
     "execution_count": 15,
     "metadata": {},
     "output_type": "execute_result"
    }
   ],
   "source": [
    "final_time = round(dist_start_center/50 + sum(time),2)\n",
    "final_time"
   ]
  },
  {
   "cell_type": "markdown",
   "metadata": {},
   "source": [
    "So the total of time to charge all of the scooters is 161.79 hours."
   ]
  },
  {
   "cell_type": "code",
   "execution_count": null,
   "metadata": {},
   "outputs": [],
   "source": []
  }
 ],
 "metadata": {
  "kernelspec": {
   "display_name": "Python 3",
   "language": "python",
   "name": "python3"
  },
  "language_info": {
   "codemirror_mode": {
    "name": "ipython",
    "version": 3
   },
   "file_extension": ".py",
   "mimetype": "text/x-python",
   "name": "python",
   "nbconvert_exporter": "python",
   "pygments_lexer": "ipython3",
   "version": "3.7.3"
  }
 },
 "nbformat": 4,
 "nbformat_minor": 2
}
